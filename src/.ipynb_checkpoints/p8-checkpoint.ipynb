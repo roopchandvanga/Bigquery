{
 "cells": [
  {
   "cell_type": "code",
   "execution_count": 1,
   "id": "c75bbaac-1028-439c-a0e5-7903a4bb94b3",
   "metadata": {},
   "outputs": [],
   "source": [
    "from google.cloud import bigquery "
   ]
  },
  {
   "cell_type": "code",
   "execution_count": 2,
   "id": "128df7ba-16b8-409c-a66e-960ef5a2076b",
   "metadata": {},
   "outputs": [],
   "source": [
    "import os\n",
    "\n",
    "os.environ[\"GOOGLE_CLOUD_PROJECT\"] = \"vm1-544\""
   ]
  },
  {
   "cell_type": "code",
   "execution_count": 3,
   "id": "d6a1e9e4-2cf6-48af-8007-ed4be545103b",
   "metadata": {},
   "outputs": [
    {
     "name": "stderr",
     "output_type": "stream",
     "text": [
      "/home/rrvanga/p8/venv/lib/python3.12/site-packages/google/auth/_default.py:76: UserWarning: Your application has authenticated using end user credentials from Google Cloud SDK without a quota project. You might receive a \"quota exceeded\" or \"API not enabled\" error. See the following page for troubleshooting: https://cloud.google.com/docs/authentication/adc-troubleshooting/user-creds. \n",
      "  warnings.warn(_CLOUD_SDK_CREDENTIALS_WARNING)\n"
     ]
    }
   ],
   "source": [
    "bq = bigquery.Client() "
   ]
  },
  {
   "cell_type": "code",
   "execution_count": 4,
   "id": "39cf86aa-4128-4bf0-9f1b-45bd97f6282b",
   "metadata": {},
   "outputs": [
    {
     "name": "stdout",
     "output_type": "stream",
     "text": [
      "adjacent_counties\n",
      "adjacent_states\n",
      "cbsa\n",
      "cnecta\n",
      "coastline\n",
      "congress_district_115\n",
      "congress_district_116\n",
      "counties\n",
      "csa\n",
      "metropolitan_divisions\n",
      "national_outline\n",
      "nws_forecast_regions\n",
      "railways\n",
      "states\n",
      "urban_areas\n",
      "zip_codes\n"
     ]
    }
   ],
   "source": [
    "for tbl in bq.list_tables(\"bigquery-public-data.geo_us_boundaries\"):\n",
    "    print(tbl.table_id)"
   ]
  },
  {
   "cell_type": "code",
   "execution_count": 5,
   "id": "185a2c51-5b21-46b6-982c-2c8dcd5d13f0",
   "metadata": {},
   "outputs": [
    {
     "name": "stderr",
     "output_type": "stream",
     "text": [
      "/home/rrvanga/p8/venv/lib/python3.12/site-packages/google/cloud/bigquery/__init__.py:237: FutureWarning: %load_ext google.cloud.bigquery is deprecated. Install bigquery-magics package and use `%load_ext bigquery_magics`, instead.\n",
      "  warnings.warn(\n"
     ]
    }
   ],
   "source": [
    "%load_ext google.cloud.bigquery "
   ]
  },
  {
   "cell_type": "code",
   "execution_count": 6,
   "id": "3ea47073-1b93-4490-bdf2-84d8a8d02f01",
   "metadata": {},
   "outputs": [
    {
     "data": {
      "application/vnd.jupyter.widget-view+json": {
       "model_id": "88ea1934ca1f4a1b89289942af136dc6",
       "version_major": 2,
       "version_minor": 0
      },
      "text/plain": [
       "Query is running:   0%|          |"
      ]
     },
     "metadata": {},
     "output_type": "display_data"
    },
    {
     "data": {
      "application/vnd.jupyter.widget-view+json": {
       "model_id": "2f36e5d2791a42b197dc6f056f1f4693",
       "version_major": 2,
       "version_minor": 0
      },
      "text/plain": [
       "Downloading:   0%|          |"
      ]
     },
     "metadata": {},
     "output_type": "display_data"
    }
   ],
   "source": [
    "%%bigquery df\n",
    "SELECT geo_id\n",
    "FROM bigquery-public-data.geo_us_boundaries.counties\n",
    "WHERE county_name = \"Dane\""
   ]
  },
  {
   "cell_type": "code",
   "execution_count": 7,
   "id": "9ce59c4a-34bf-4d8f-b112-8d6ad77e21c9",
   "metadata": {},
   "outputs": [
    {
     "data": {
      "text/plain": [
       "'55025'"
      ]
     },
     "execution_count": 7,
     "metadata": {},
     "output_type": "execute_result"
    }
   ],
   "source": [
    "#q1\n",
    "df[\"geo_id\"][0]"
   ]
  },
  {
   "cell_type": "code",
   "execution_count": 8,
   "id": "cba86894-0a67-4c0d-8cb5-6cc0d6ebb7fd",
   "metadata": {},
   "outputs": [
    {
     "data": {
      "application/vnd.jupyter.widget-view+json": {
       "model_id": "a47c91e4622c43fd9ba34c28845710a1",
       "version_major": 2,
       "version_minor": 0
      },
      "text/plain": [
       "Query is running:   0%|          |"
      ]
     },
     "metadata": {},
     "output_type": "display_data"
    },
    {
     "data": {
      "application/vnd.jupyter.widget-view+json": {
       "model_id": "329e3446c7014ee1a780c65d71dbcab7",
       "version_major": 2,
       "version_minor": 0
      },
      "text/plain": [
       "Downloading:   0%|          |"
      ]
     },
     "metadata": {},
     "output_type": "display_data"
    }
   ],
   "source": [
    "%%bigquery df\n",
    "SELECT state_fips_code AS state,COUNT(*) AS county_count\n",
    "FROM bigquery-public-data.geo_us_boundaries.counties\n",
    "GROUP BY state_fips_code\n",
    "ORDER BY county_count DESC\n",
    "LIMIT 5"
   ]
  },
  {
   "cell_type": "code",
   "execution_count": 9,
   "id": "ef5d1921-b941-4a77-a714-2f2104c2ffb9",
   "metadata": {},
   "outputs": [
    {
     "data": {
      "text/html": [
       "<div>\n",
       "<style scoped>\n",
       "    .dataframe tbody tr th:only-of-type {\n",
       "        vertical-align: middle;\n",
       "    }\n",
       "\n",
       "    .dataframe tbody tr th {\n",
       "        vertical-align: top;\n",
       "    }\n",
       "\n",
       "    .dataframe thead th {\n",
       "        text-align: right;\n",
       "    }\n",
       "</style>\n",
       "<table border=\"1\" class=\"dataframe\">\n",
       "  <thead>\n",
       "    <tr style=\"text-align: right;\">\n",
       "      <th></th>\n",
       "      <th>state</th>\n",
       "      <th>county_count</th>\n",
       "    </tr>\n",
       "  </thead>\n",
       "  <tbody>\n",
       "    <tr>\n",
       "      <th>0</th>\n",
       "      <td>48</td>\n",
       "      <td>254</td>\n",
       "    </tr>\n",
       "    <tr>\n",
       "      <th>1</th>\n",
       "      <td>13</td>\n",
       "      <td>159</td>\n",
       "    </tr>\n",
       "    <tr>\n",
       "      <th>2</th>\n",
       "      <td>51</td>\n",
       "      <td>133</td>\n",
       "    </tr>\n",
       "    <tr>\n",
       "      <th>3</th>\n",
       "      <td>21</td>\n",
       "      <td>120</td>\n",
       "    </tr>\n",
       "    <tr>\n",
       "      <th>4</th>\n",
       "      <td>29</td>\n",
       "      <td>115</td>\n",
       "    </tr>\n",
       "  </tbody>\n",
       "</table>\n",
       "</div>"
      ],
      "text/plain": [
       "  state  county_count\n",
       "0    48           254\n",
       "1    13           159\n",
       "2    51           133\n",
       "3    21           120\n",
       "4    29           115"
      ]
     },
     "execution_count": 9,
     "metadata": {},
     "output_type": "execute_result"
    }
   ],
   "source": [
    "df"
   ]
  },
  {
   "cell_type": "code",
   "execution_count": 10,
   "id": "138b5a5a-6b8b-47bd-867e-67ed6c775293",
   "metadata": {},
   "outputs": [
    {
     "data": {
      "text/plain": [
       "{'48': 254, '13': 159, '51': 133, '21': 120, '29': 115}"
      ]
     },
     "execution_count": 10,
     "metadata": {},
     "output_type": "execute_result"
    }
   ],
   "source": [
    "#q2\n",
    "top_states_counties = {row['state']: row['county_count'] for _, row in df.iterrows()}\n",
    "top_states_counties"
   ]
  },
  {
   "cell_type": "code",
   "execution_count": 11,
   "id": "449e5399-e7a0-413d-aa08-59d56b5ad79a",
   "metadata": {},
   "outputs": [
    {
     "data": {
      "text/plain": [
       "{'q1': '10 MB', 'q2': '10 MB'}"
      ]
     },
     "execution_count": 11,
     "metadata": {},
     "output_type": "execute_result"
    }
   ],
   "source": [
    "#q3\n",
    "no_cache = bigquery.QueryJobConfig(use_query_cache=False)\n",
    "q1=bq.query(\"\"\"SELECT geo_id\n",
    "FROM bigquery-public-data.geo_us_boundaries.counties\n",
    "WHERE county_name = \"Dane\" \n",
    "\"\"\", job_config=no_cache)\n",
    "\n",
    "q2=bq.query(\"\"\"SELECT state_fips_code AS state,COUNT(*) AS county_count\n",
    "FROM bigquery-public-data.geo_us_boundaries.counties\n",
    "GROUP BY state_fips_code\n",
    "ORDER BY county_count DESC\n",
    "LIMIT 5\n",
    "\"\"\", job_config=no_cache)\n",
    "\n",
    "d={\"q1\":str(int(q1.total_bytes_billed / 1024**2))+\" MB\",\"q2\":str(int(q2.total_bytes_billed / 1024**2))+\" MB\"}\n",
    "d"
   ]
  },
  {
   "cell_type": "code",
   "execution_count": 12,
   "id": "7a417f04-d611-43db-954d-c329b1e5cefc",
   "metadata": {},
   "outputs": [
    {
     "data": {
      "text/plain": [
       "Dataset(DatasetReference('vm1-544', 'p8'))"
      ]
     },
     "execution_count": 12,
     "metadata": {},
     "output_type": "execute_result"
    }
   ],
   "source": [
    "dataset = bigquery.Dataset(\"vm1-544.p8\")\n",
    "# dataset.location = \"us-central1\"\n",
    "bq.create_dataset(dataset, exists_ok=True)"
   ]
  },
  {
   "cell_type": "code",
   "execution_count": 13,
   "id": "bf21c7df-f372-484f-82c5-7508282d5a89",
   "metadata": {},
   "outputs": [
    {
     "data": {
      "text/plain": [
       "Table(TableReference(DatasetReference('vm1-544', 'p8'), 'hdma'))"
      ]
     },
     "execution_count": 13,
     "metadata": {},
     "output_type": "execute_result"
    }
   ],
   "source": [
    "# example 2: External Table (GCS)\n",
    "config = bigquery.ExternalConfig(source_format=\"PARQUET\")\n",
    "config.source_uris = [\"gs://cs544_p8_rrvanga/hdma-wi-2021.parquet\"]\n",
    "# config.autodetect = True\n",
    "table = bigquery.Table(\"vm1-544.p8.hdma\")\n",
    "table.external_data_configuration = config\n",
    "bq.create_table(table, exists_ok=True)"
   ]
  },
  {
   "cell_type": "code",
   "execution_count": 14,
   "id": "f9922e37-0398-43c2-a24d-1ed5af173a77",
   "metadata": {},
   "outputs": [
    {
     "data": {
      "text/plain": [
       "['p8']"
      ]
     },
     "execution_count": 14,
     "metadata": {},
     "output_type": "execute_result"
    }
   ],
   "source": [
    "#q4\n",
    "l=[]\n",
    "for ds in bq.list_datasets(\"vm1-544\"):\n",
    "    l.append(str(ds.dataset_id))\n",
    "\n",
    "l"
   ]
  },
  {
   "cell_type": "code",
   "execution_count": 15,
   "id": "84be4f40-2340-47fe-bbd8-d2174cba056e",
   "metadata": {},
   "outputs": [
    {
     "data": {
      "application/vnd.jupyter.widget-view+json": {
       "model_id": "ad3ed18ffed246ca949061883dae4215",
       "version_major": 2,
       "version_minor": 0
      },
      "text/plain": [
       "Query is running:   0%|          |"
      ]
     },
     "metadata": {},
     "output_type": "display_data"
    },
    {
     "data": {
      "application/vnd.jupyter.widget-view+json": {
       "model_id": "f039f9623bd449b790b174c4a938cc00",
       "version_major": 2,
       "version_minor": 0
      },
      "text/plain": [
       "Downloading:   0%|          |"
      ]
     },
     "metadata": {},
     "output_type": "display_data"
    }
   ],
   "source": [
    "%%bigquery df\n",
    "SELECT \n",
    "    c.county_name, \n",
    "    COUNT(h.index) AS application_count\n",
    "FROM \n",
    "    `vm1-544.p8.hdma` AS h\n",
    "JOIN \n",
    "    `bigquery-public-data.geo_us_boundaries.counties` AS c\n",
    "ON \n",
    "    h.county_code = c.county_fips_code\n",
    "GROUP BY \n",
    "    c.county_name\n",
    "ORDER BY \n",
    "    application_count DESC\n",
    "LIMIT 10"
   ]
  },
  {
   "cell_type": "code",
   "execution_count": 16,
   "id": "ec76bbdb-b6ac-4f71-9c95-7748418ecd42",
   "metadata": {},
   "outputs": [
    {
     "data": {
      "text/plain": [
       "{'Milwaukee': 46570,\n",
       " 'Dane': 38557,\n",
       " 'Waukesha': 34159,\n",
       " 'Brown': 15615,\n",
       " 'Racine': 13007,\n",
       " 'Outagamie': 11523,\n",
       " 'Kenosha': 10744,\n",
       " 'Washington': 10726,\n",
       " 'Rock': 9834,\n",
       " 'Winnebago': 9310}"
      ]
     },
     "execution_count": 16,
     "metadata": {},
     "output_type": "execute_result"
    }
   ],
   "source": [
    "#q5\n",
    "result = {row['county_name']: row['application_count'] for _, row in df.iterrows()}\n",
    "result"
   ]
  },
  {
   "cell_type": "code",
   "execution_count": 17,
   "id": "06500bac-ef7e-4fec-950b-9099bd60810e",
   "metadata": {},
   "outputs": [
    {
     "data": {
      "text/plain": [
       "Table(TableReference(DatasetReference('vm1-544', 'p8'), 'applications'))"
      ]
     },
     "execution_count": 17,
     "metadata": {},
     "output_type": "execute_result"
    }
   ],
   "source": [
    "config = bigquery.ExternalConfig(\"GOOGLE_SHEETS\")\n",
    "config.source_uris = [\"https://docs.google.com/spreadsheets/d/13e14LzDDm9U4y2KddlKFAy7exNdbo1OwJa-OTe4ywiw\"]\n",
    "config.autodetect = True\n",
    "table = bigquery.Table(\"vm1-544.p8.applications\")\n",
    "table.external_data_configuration = config\n",
    "bq.create_table(table, exists_ok=True)"
   ]
  },
  {
   "cell_type": "code",
   "execution_count": 18,
   "id": "ac84cbee-4bae-4a18-924d-6d4fd8828dda",
   "metadata": {},
   "outputs": [
    {
     "data": {
      "application/vnd.jupyter.widget-view+json": {
       "model_id": "11d45f4ffa694e13bb5424503ba809a4",
       "version_major": 2,
       "version_minor": 0
      },
      "text/plain": [
       "Query is running:   0%|          |"
      ]
     },
     "metadata": {},
     "output_type": "display_data"
    },
    {
     "data": {
      "application/vnd.jupyter.widget-view+json": {
       "model_id": "973265dd4afa4c8c982723338d358eaa",
       "version_major": 2,
       "version_minor": 0
      },
      "text/plain": [
       "Downloading:   0%|          |"
      ]
     },
     "metadata": {},
     "output_type": "display_data"
    }
   ],
   "source": [
    "%%bigquery df\n",
    "SELECT COUNT(*) AS income_count\n",
    "FROM `vm1-544.p8.applications` as a\n",
    "WHERE a.income =30000"
   ]
  },
  {
   "cell_type": "code",
   "execution_count": 19,
   "id": "241ae864-4a78-45cf-b8eb-9dd8c8b21af1",
   "metadata": {},
   "outputs": [
    {
     "data": {
      "text/plain": [
       "np.int64(1)"
      ]
     },
     "execution_count": 19,
     "metadata": {},
     "output_type": "execute_result"
    }
   ],
   "source": [
    "#q6\n",
    "df[\"income_count\"][0]"
   ]
  },
  {
   "cell_type": "code",
   "execution_count": 20,
   "id": "efa070e3-63cf-43a7-b7d3-6a0f8be0fa5e",
   "metadata": {},
   "outputs": [
    {
     "data": {
      "application/vnd.jupyter.widget-view+json": {
       "model_id": "1d8cda671b404bcaa7516047a77fd25f",
       "version_major": 2,
       "version_minor": 0
      },
      "text/plain": [
       "Query is running:   0%|          |"
      ]
     },
     "metadata": {},
     "output_type": "display_data"
    },
    {
     "data": {
      "text/html": [
       "<div>\n",
       "<style scoped>\n",
       "    .dataframe tbody tr th:only-of-type {\n",
       "        vertical-align: middle;\n",
       "    }\n",
       "\n",
       "    .dataframe tbody tr th {\n",
       "        vertical-align: top;\n",
       "    }\n",
       "\n",
       "    .dataframe thead th {\n",
       "        text-align: right;\n",
       "    }\n",
       "</style>\n",
       "<table border=\"1\" class=\"dataframe\">\n",
       "  <thead>\n",
       "    <tr style=\"text-align: right;\">\n",
       "      <th></th>\n",
       "    </tr>\n",
       "  </thead>\n",
       "  <tbody>\n",
       "  </tbody>\n",
       "</table>\n",
       "</div>"
      ],
      "text/plain": [
       "Empty DataFrame\n",
       "Columns: []\n",
       "Index: []"
      ]
     },
     "execution_count": 20,
     "metadata": {},
     "output_type": "execute_result"
    }
   ],
   "source": [
    "%%bigquery \n",
    "CREATE OR REPLACE MODEL `vm1-544.p8.loan_income_model`\n",
    "OPTIONS(\n",
    "    model_type='LINEAR_REG',\n",
    "    input_label_cols=['loan_amount']\n",
    ") AS\n",
    "SELECT\n",
    "    q.income,\n",
    "    q.loan_amount\n",
    "FROM `vm1-544.p8.applications` as q"
   ]
  },
  {
   "cell_type": "code",
   "execution_count": 21,
   "id": "5330f7bc-aa38-42bf-b4dd-39dc3c26185d",
   "metadata": {},
   "outputs": [
    {
     "data": {
      "application/vnd.jupyter.widget-view+json": {
       "model_id": "1b669c778c6a4eccb53331ff578679fa",
       "version_major": 2,
       "version_minor": 0
      },
      "text/plain": [
       "Query is running:   0%|          |"
      ]
     },
     "metadata": {},
     "output_type": "display_data"
    },
    {
     "data": {
      "application/vnd.jupyter.widget-view+json": {
       "model_id": "cf60ba4976744587aae31f8d8c3de80c",
       "version_major": 2,
       "version_minor": 0
      },
      "text/plain": [
       "Downloading:   0%|          |"
      ]
     },
     "metadata": {},
     "output_type": "display_data"
    }
   ],
   "source": [
    "%%bigquery df\n",
    "SELECT\n",
    "    r2_score\n",
    "FROM\n",
    "    ML.EVALUATE(MODEL `vm1-544.p8.loan_income_model`)\n"
   ]
  },
  {
   "cell_type": "code",
   "execution_count": 22,
   "id": "f37cfba9-ae18-48ef-a77b-a32d09e72787",
   "metadata": {},
   "outputs": [
    {
     "data": {
      "text/plain": [
       "0.038966036250780434"
      ]
     },
     "execution_count": 22,
     "metadata": {},
     "output_type": "execute_result"
    }
   ],
   "source": [
    "#q7\n",
    "float(df[\"r2_score\"][0])"
   ]
  },
  {
   "cell_type": "code",
   "execution_count": 23,
   "id": "e98fc431-290e-44b6-a68a-2b96196c89ca",
   "metadata": {},
   "outputs": [
    {
     "data": {
      "application/vnd.jupyter.widget-view+json": {
       "model_id": "0018e291b8be4142a85243390765e3a5",
       "version_major": 2,
       "version_minor": 0
      },
      "text/plain": [
       "Query is running:   0%|          |"
      ]
     },
     "metadata": {},
     "output_type": "display_data"
    },
    {
     "data": {
      "application/vnd.jupyter.widget-view+json": {
       "model_id": "9033be724cb9482cb9d666de3d369915",
       "version_major": 2,
       "version_minor": 0
      },
      "text/plain": [
       "Downloading:   0%|          |"
      ]
     },
     "metadata": {},
     "output_type": "display_data"
    }
   ],
   "source": [
    "%%bigquery df\n",
    "SELECT ST_DISTANCE(ST_GEOGPOINT(43.0747, 89.3841),ST_GEOGPOINT(longitude, latitude)) AS m\n",
    "FROM vm1-544.p8.applications a\n",
    "ORDER BY m ASC\n",
    "LIMIT 1"
   ]
  },
  {
   "cell_type": "code",
   "execution_count": 24,
   "id": "430a582b-83fb-4ebd-9914-c72ecb3d592a",
   "metadata": {},
   "outputs": [
    {
     "data": {
      "text/plain": [
       "43652.18593564875"
      ]
     },
     "execution_count": 24,
     "metadata": {},
     "output_type": "execute_result"
    }
   ],
   "source": [
    "#q8\n",
    "float(df[\"m\"][0])"
   ]
  },
  {
   "cell_type": "code",
   "execution_count": 25,
   "id": "e7f15df5-fa8b-4deb-a12e-b331e0ef5659",
   "metadata": {},
   "outputs": [
    {
     "data": {
      "application/vnd.jupyter.widget-view+json": {
       "model_id": "8d97b3c9a322487d8a0a69aaffbda158",
       "version_major": 2,
       "version_minor": 0
      },
      "text/plain": [
       "Query is running:   0%|          |"
      ]
     },
     "metadata": {},
     "output_type": "display_data"
    },
    {
     "data": {
      "application/vnd.jupyter.widget-view+json": {
       "model_id": "4187f8e29b79426387ee75f7f4e22f1f",
       "version_major": 2,
       "version_minor": 0
      },
      "text/plain": [
       "Downloading:   0%|          |"
      ]
     },
     "metadata": {},
     "output_type": "display_data"
    }
   ],
   "source": [
    "%%bigquery df\n",
    "WITH county_boundaries AS (\n",
    "  SELECT c.county_name,c.county_geom\n",
    "  FROM bigquery-public-data.geo_us_boundaries.counties c\n",
    "  WHERE c.state_fips_code = '55'  -- Only counties in Wisconsin\n",
    ")\n",
    "SELECT c.county_name,COUNT(*) AS application_count\n",
    "FROM vm1-544.p8.applications a\n",
    "JOIN county_boundaries c\n",
    "ON ST_CONTAINS(c.county_geom, ST_GeogPoint(a.longitude, a.latitude))\n",
    "GROUP BY c.county_name\n",
    "ORDER BY application_count DESC;\n"
   ]
  },
  {
   "cell_type": "code",
   "execution_count": 26,
   "id": "ff925179-3611-4b4f-ba29-8e5bc878f5ec",
   "metadata": {},
   "outputs": [
    {
     "data": {
      "text/plain": [
       "{'Dane': 68,\n",
       " 'Door': 8,\n",
       " 'Milwaukee': 7,\n",
       " 'Jefferson': 4,\n",
       " 'Marinette': 3,\n",
       " 'Oneida': 3,\n",
       " 'Bayfield': 3,\n",
       " 'Brown': 3,\n",
       " 'Juneau': 2,\n",
       " 'Shawano': 2,\n",
       " 'St. Croix': 2,\n",
       " 'Fond du Lac': 2,\n",
       " 'Price': 2,\n",
       " 'Winnebago': 1,\n",
       " 'Rock': 1,\n",
       " 'Waukesha': 1,\n",
       " 'Taylor': 1,\n",
       " 'Green': 1,\n",
       " 'Walworth': 1,\n",
       " 'Columbia': 1,\n",
       " 'Waushara': 1,\n",
       " 'Ashland': 1,\n",
       " 'Barron': 1,\n",
       " 'Vilas': 1,\n",
       " 'Iowa': 1,\n",
       " 'Wood': 1,\n",
       " 'Forest': 1,\n",
       " 'Douglas': 1,\n",
       " 'Oconto': 1,\n",
       " 'Sauk': 1,\n",
       " 'Sawyer': 1}"
      ]
     },
     "execution_count": 26,
     "metadata": {},
     "output_type": "execute_result"
    }
   ],
   "source": [
    "#q9\n",
    "A = {row['county_name']: row['application_count'] for _, row in df.iterrows()}\n",
    "A"
   ]
  },
  {
   "cell_type": "code",
   "execution_count": 27,
   "id": "00a76c1a-8eaf-4dd0-a73b-5fa2794528bb",
   "metadata": {},
   "outputs": [
    {
     "data": {
      "application/vnd.jupyter.widget-view+json": {
       "model_id": "0d7cef4d9bf04b4088b6627306c88d92",
       "version_major": 2,
       "version_minor": 0
      },
      "text/plain": [
       "Query is running:   0%|          |"
      ]
     },
     "metadata": {},
     "output_type": "display_data"
    },
    {
     "data": {
      "application/vnd.jupyter.widget-view+json": {
       "model_id": "14db61cf7b7d4efe83dbb65e4c18ced1",
       "version_major": 2,
       "version_minor": 0
      },
      "text/plain": [
       "Downloading:   0%|          |"
      ]
     },
     "metadata": {},
     "output_type": "display_data"
    }
   ],
   "source": [
    "%%bigquery df\n",
    "WITH dane_county AS (\n",
    "  SELECT county_name,county_geom\n",
    "  FROM bigquery-public-data.geo_us_boundaries.counties\n",
    "  WHERE county_name = 'Dane' AND state_fips_code = '55'  \n",
    ")\n",
    "SELECT c.county_name\n",
    "FROM bigquery-public-data.geo_us_boundaries.counties c\n",
    "JOIN dane_county d\n",
    "ON ST_TOUCHES(c.county_geom, d.county_geom)\n",
    "WHERE c.state_fips_code = '55'  \n",
    "AND c.county_name != 'Dane' "
   ]
  },
  {
   "cell_type": "code",
   "execution_count": 28,
   "id": "2addd190-ba29-4710-8856-17b607a1ea49",
   "metadata": {},
   "outputs": [
    {
     "data": {
      "text/plain": [
       "['Dodge', 'Jefferson', 'Sauk', 'Iowa', 'Green', 'Rock', 'Columbia']"
      ]
     },
     "execution_count": 28,
     "metadata": {},
     "output_type": "execute_result"
    }
   ],
   "source": [
    "#q10\n",
    "A = [row['county_name'] for _, row in df.iterrows()]\n",
    "A"
   ]
  },
  {
   "cell_type": "code",
   "execution_count": null,
   "id": "249b4fb8-90af-4fee-82f5-44928f89565e",
   "metadata": {},
   "outputs": [],
   "source": []
  }
 ],
 "metadata": {
  "kernelspec": {
   "display_name": "Python 3 (ipykernel)",
   "language": "python",
   "name": "python3"
  },
  "language_info": {
   "codemirror_mode": {
    "name": "ipython",
    "version": 3
   },
   "file_extension": ".py",
   "mimetype": "text/x-python",
   "name": "python",
   "nbconvert_exporter": "python",
   "pygments_lexer": "ipython3",
   "version": "3.12.3"
  }
 },
 "nbformat": 4,
 "nbformat_minor": 5
}
